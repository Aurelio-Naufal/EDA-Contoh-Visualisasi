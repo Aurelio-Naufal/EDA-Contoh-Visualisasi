{
 "cells": [
  {
   "cell_type": "code",
   "execution_count": 2,
   "id": "e9652b36",
   "metadata": {},
   "outputs": [
    {
     "data": {
      "text/html": [
       "<div>\n",
       "<style scoped>\n",
       "    .dataframe tbody tr th:only-of-type {\n",
       "        vertical-align: middle;\n",
       "    }\n",
       "\n",
       "    .dataframe tbody tr th {\n",
       "        vertical-align: top;\n",
       "    }\n",
       "\n",
       "    .dataframe thead th {\n",
       "        text-align: right;\n",
       "    }\n",
       "</style>\n",
       "<table border=\"1\" class=\"dataframe\">\n",
       "  <thead>\n",
       "    <tr style=\"text-align: right;\">\n",
       "      <th></th>\n",
       "      <th>site_id</th>\n",
       "      <th>building_id</th>\n",
       "      <th>primary_use</th>\n",
       "      <th>square_feet</th>\n",
       "      <th>year_built</th>\n",
       "      <th>floor_count</th>\n",
       "      <th>meter</th>\n",
       "      <th>timestamp</th>\n",
       "      <th>meter_reading</th>\n",
       "      <th>air_temperature</th>\n",
       "      <th>cloud_coverage</th>\n",
       "      <th>dew_temperature</th>\n",
       "      <th>precip_depth_1_hr</th>\n",
       "      <th>sea_level_pressure</th>\n",
       "      <th>wind_direction</th>\n",
       "      <th>wind_speed</th>\n",
       "    </tr>\n",
       "  </thead>\n",
       "  <tbody>\n",
       "    <tr>\n",
       "      <th>0</th>\n",
       "      <td>0</td>\n",
       "      <td>0</td>\n",
       "      <td>Education</td>\n",
       "      <td>7432</td>\n",
       "      <td>2008.0</td>\n",
       "      <td>NaN</td>\n",
       "      <td>0</td>\n",
       "      <td>2016-01-01 00:00:00</td>\n",
       "      <td>0.0</td>\n",
       "      <td>25.0</td>\n",
       "      <td>6.0</td>\n",
       "      <td>20.0</td>\n",
       "      <td>NaN</td>\n",
       "      <td>1019.7</td>\n",
       "      <td>0.0</td>\n",
       "      <td>0.0</td>\n",
       "    </tr>\n",
       "    <tr>\n",
       "      <th>1</th>\n",
       "      <td>0</td>\n",
       "      <td>0</td>\n",
       "      <td>Education</td>\n",
       "      <td>7432</td>\n",
       "      <td>2008.0</td>\n",
       "      <td>NaN</td>\n",
       "      <td>0</td>\n",
       "      <td>2016-01-01 01:00:00</td>\n",
       "      <td>0.0</td>\n",
       "      <td>24.4</td>\n",
       "      <td>NaN</td>\n",
       "      <td>21.1</td>\n",
       "      <td>-1.0</td>\n",
       "      <td>1020.2</td>\n",
       "      <td>70.0</td>\n",
       "      <td>1.5</td>\n",
       "    </tr>\n",
       "    <tr>\n",
       "      <th>2</th>\n",
       "      <td>0</td>\n",
       "      <td>0</td>\n",
       "      <td>Education</td>\n",
       "      <td>7432</td>\n",
       "      <td>2008.0</td>\n",
       "      <td>NaN</td>\n",
       "      <td>0</td>\n",
       "      <td>2016-01-01 02:00:00</td>\n",
       "      <td>0.0</td>\n",
       "      <td>22.8</td>\n",
       "      <td>2.0</td>\n",
       "      <td>21.1</td>\n",
       "      <td>0.0</td>\n",
       "      <td>1020.2</td>\n",
       "      <td>0.0</td>\n",
       "      <td>0.0</td>\n",
       "    </tr>\n",
       "    <tr>\n",
       "      <th>3</th>\n",
       "      <td>0</td>\n",
       "      <td>0</td>\n",
       "      <td>Education</td>\n",
       "      <td>7432</td>\n",
       "      <td>2008.0</td>\n",
       "      <td>NaN</td>\n",
       "      <td>0</td>\n",
       "      <td>2016-01-01 03:00:00</td>\n",
       "      <td>0.0</td>\n",
       "      <td>21.1</td>\n",
       "      <td>2.0</td>\n",
       "      <td>20.6</td>\n",
       "      <td>0.0</td>\n",
       "      <td>1020.1</td>\n",
       "      <td>0.0</td>\n",
       "      <td>0.0</td>\n",
       "    </tr>\n",
       "    <tr>\n",
       "      <th>4</th>\n",
       "      <td>0</td>\n",
       "      <td>0</td>\n",
       "      <td>Education</td>\n",
       "      <td>7432</td>\n",
       "      <td>2008.0</td>\n",
       "      <td>NaN</td>\n",
       "      <td>0</td>\n",
       "      <td>2016-01-01 04:00:00</td>\n",
       "      <td>0.0</td>\n",
       "      <td>20.0</td>\n",
       "      <td>2.0</td>\n",
       "      <td>20.0</td>\n",
       "      <td>-1.0</td>\n",
       "      <td>1020.0</td>\n",
       "      <td>250.0</td>\n",
       "      <td>2.6</td>\n",
       "    </tr>\n",
       "  </tbody>\n",
       "</table>\n",
       "</div>"
      ],
      "text/plain": [
       "   site_id  building_id primary_use  square_feet  year_built  floor_count  \\\n",
       "0        0            0   Education         7432      2008.0          NaN   \n",
       "1        0            0   Education         7432      2008.0          NaN   \n",
       "2        0            0   Education         7432      2008.0          NaN   \n",
       "3        0            0   Education         7432      2008.0          NaN   \n",
       "4        0            0   Education         7432      2008.0          NaN   \n",
       "\n",
       "   meter            timestamp  meter_reading  air_temperature  cloud_coverage  \\\n",
       "0      0  2016-01-01 00:00:00            0.0             25.0             6.0   \n",
       "1      0  2016-01-01 01:00:00            0.0             24.4             NaN   \n",
       "2      0  2016-01-01 02:00:00            0.0             22.8             2.0   \n",
       "3      0  2016-01-01 03:00:00            0.0             21.1             2.0   \n",
       "4      0  2016-01-01 04:00:00            0.0             20.0             2.0   \n",
       "\n",
       "   dew_temperature  precip_depth_1_hr  sea_level_pressure  wind_direction  \\\n",
       "0             20.0                NaN              1019.7             0.0   \n",
       "1             21.1               -1.0              1020.2            70.0   \n",
       "2             21.1                0.0              1020.2             0.0   \n",
       "3             20.6                0.0              1020.1             0.0   \n",
       "4             20.0               -1.0              1020.0           250.0   \n",
       "\n",
       "   wind_speed  \n",
       "0         0.0  \n",
       "1         1.5  \n",
       "2         0.0  \n",
       "3         0.0  \n",
       "4         2.6  "
      ]
     },
     "execution_count": 2,
     "metadata": {},
     "output_type": "execute_result"
    }
   ],
   "source": [
    "import numpy as np # untuk mengolah dataset\n",
    "import pandas as pd # untuk data processing, import dan olahnya\n",
    "import seaborn as sns # untuk visualisasi outlier nanti\n",
    "import matplotlib.pyplot as plt # untuk visualisasi outlier nanti\n",
    "import missingno as msno # untuk visualisasi missing value nanti\n",
    "\n",
    "#import data yang telah di merge dari kaggle\n",
    "train = pd.read_csv(\"C:/Users/arela/Downloads/mycsvfile.csv\")\n",
    "train.head(5)"
   ]
  },
  {
   "cell_type": "markdown",
   "id": "3def43e2",
   "metadata": {},
   "source": [
    "**Preprocessing**\n",
    "\n",
    "Tujuan atau Permasalahan utama dari kasus ini sebenarnya adalah forecasting/peramalan penggunaan energy.\n",
    "\n",
    "Pertama-tama, cek informasi apa saja yang ada di tabel"
   ]
  },
  {
   "cell_type": "code",
   "execution_count": 3,
   "id": "70b8d322",
   "metadata": {},
   "outputs": [
    {
     "name": "stdout",
     "output_type": "stream",
     "text": [
      "<class 'pandas.core.frame.DataFrame'>\n",
      "RangeIndex: 20216100 entries, 0 to 20216099\n",
      "Data columns (total 16 columns):\n",
      " #   Column              Dtype  \n",
      "---  ------              -----  \n",
      " 0   site_id             int64  \n",
      " 1   building_id         int64  \n",
      " 2   primary_use         object \n",
      " 3   square_feet         int64  \n",
      " 4   year_built          float64\n",
      " 5   floor_count         float64\n",
      " 6   meter               int64  \n",
      " 7   timestamp           object \n",
      " 8   meter_reading       float64\n",
      " 9   air_temperature     float64\n",
      " 10  cloud_coverage      float64\n",
      " 11  dew_temperature     float64\n",
      " 12  precip_depth_1_hr   float64\n",
      " 13  sea_level_pressure  float64\n",
      " 14  wind_direction      float64\n",
      " 15  wind_speed          float64\n",
      "dtypes: float64(10), int64(4), object(2)\n",
      "memory usage: 2.4+ GB\n"
     ]
    }
   ],
   "source": [
    "train.info()"
   ]
  },
  {
   "cell_type": "markdown",
   "id": "b72e7f02",
   "metadata": {},
   "source": [
    "Untuk data-data kategorik, akan dicek kategori apa saja yang ada didalamnya. Kemudian akan diubah tipe data tersebut yang sebelumnya integer atau float menjadi category supaya memudahkan preprocessing"
   ]
  },
  {
   "cell_type": "code",
   "execution_count": 4,
   "id": "ca387c0a",
   "metadata": {},
   "outputs": [
    {
     "name": "stdout",
     "output_type": "stream",
     "text": [
      "Daftar site_id \n",
      " [ 0  1  2  3  4  5  6  7  8  9 10 11 12 13 14 15]\n",
      "Banyaknya lokasi gedung:  16 \n",
      "\n",
      "Daftar building_id \n",
      " [   0    1    2 ... 1446 1447 1448]\n",
      "Banyaknya gedung:  1449 \n",
      "\n",
      "Daftar peruntukan gedung:  ['Education' 'Lodging/residential' 'Office'\n",
      " 'Entertainment/public assembly' 'Other' 'Retail' 'Parking'\n",
      " 'Public services' 'Warehouse/storage' 'Food sales and service'\n",
      " 'Religious worship' 'Healthcare' 'Utility' 'Technology/science'\n",
      " 'Manufacturing/industrial' 'Services']\n",
      "Banyaknya kategori peruntukan gedung:  16 \n",
      "\n",
      "Jenis meter yang digunakan:  [0 1 3 2]\n",
      "Banyaknya jenis meter yang digunakan:  4\n"
     ]
    }
   ],
   "source": [
    "banyaknya_lokasi = train['site_id'].unique()\n",
    "print('Daftar site_id \\n',banyaknya_lokasi)\n",
    "print('Banyaknya lokasi gedung: ',len(banyaknya_lokasi),'\\n')\n",
    "\n",
    "banyaknya_gedung = train['building_id'].unique()\n",
    "print('Daftar building_id \\n',banyaknya_gedung)\n",
    "print('Banyaknya gedung: ',len(banyaknya_gedung),'\\n')\n",
    "\n",
    "peruntukan_gedung = train['primary_use'].unique()\n",
    "print('Daftar peruntukan gedung: ',peruntukan_gedung)\n",
    "print('Banyaknya kategori peruntukan gedung: ',len(peruntukan_gedung),'\\n')\n",
    "\n",
    "jenis_meter = train['meter'].unique()\n",
    "print('Jenis meter yang digunakan: ',jenis_meter)\n",
    "print('Banyaknya jenis meter yang digunakan: ',len(jenis_meter))"
   ]
  },
  {
   "cell_type": "code",
   "execution_count": 5,
   "id": "62b7fd2c",
   "metadata": {},
   "outputs": [],
   "source": [
    "train['site_id'] = train['site_id'].astype('category')\n",
    "train['building_id'] = train['building_id'].astype('category')\n",
    "train['primary_use'] = train['primary_use'].astype('category')\n",
    "train['meter'] = train['meter'].astype('category')\n",
    "train['timestamp'] = train['timestamp'].astype('category') #data timestamp akan dijadikan kategori karena bukanlah suatu ukutan\n",
    "train['year_built'] = train['year_built'].astype('category') #tahun pembuatan akan dijadikan kategori karena bukanlah suatu ukuran"
   ]
  },
  {
   "cell_type": "code",
   "execution_count": 6,
   "id": "315fd93b",
   "metadata": {},
   "outputs": [
    {
     "name": "stdout",
     "output_type": "stream",
     "text": [
      "<class 'pandas.core.frame.DataFrame'>\n",
      "RangeIndex: 20216100 entries, 0 to 20216099\n",
      "Data columns (total 16 columns):\n",
      " #   Column              Dtype   \n",
      "---  ------              -----   \n",
      " 0   site_id             category\n",
      " 1   building_id         category\n",
      " 2   primary_use         category\n",
      " 3   square_feet         int64   \n",
      " 4   year_built          category\n",
      " 5   floor_count         float64 \n",
      " 6   meter               category\n",
      " 7   timestamp           category\n",
      " 8   meter_reading       float64 \n",
      " 9   air_temperature     float64 \n",
      " 10  cloud_coverage      float64 \n",
      " 11  dew_temperature     float64 \n",
      " 12  precip_depth_1_hr   float64 \n",
      " 13  sea_level_pressure  float64 \n",
      " 14  wind_direction      float64 \n",
      " 15  wind_speed          float64 \n",
      "dtypes: category(6), float64(9), int64(1)\n",
      "memory usage: 1.7 GB\n"
     ]
    }
   ],
   "source": [
    "train.info()"
   ]
  },
  {
   "cell_type": "markdown",
   "id": "5238ecc9",
   "metadata": {},
   "source": [
    "Sehingga didapatkan informasi pada tabel dari setiap kolom sebagai berikut :\n",
    "1. site_id : ID lokasi gedung, terdapat 16 lokasi gedung\n",
    "2. building_id : ID gedung, terdapat 1449 gedung\n",
    "3. primary_use : Peruntukan gedung, terdapat 16 kategori\n",
    "4. square_feet : Luas bangunan gedung\n",
    "5. year_built : Tahun pembuatan gedung\n",
    "6. floor_count : Banyaknya lantai yang ada di gedung\n",
    "7. meter: Jenis meter reading penggunaan energi gedung. Terdapat 4 jenis yaitu ```0```: electricity, ```1```: chilledwater, ```2```: steam, ```3```:hotwater (dari data)\n",
    "8. time_stamp : Waktu saat pengukuran (per jam)\n",
    "9. meter_reading : Penggunaan energi\n",
    "10. air_temperature : Suhu udara\n",
    "11. cloud_coverage : Ukuran berawan / porsi langit yang tertutup awan \n",
    "12. dew_temperature : Suhu embun \n",
    "13. precip_depth_1_hr : Presipitasi (banyaknya air dari langit)\n",
    "14. sea_level_pressure : Tekanan permukaan laut\n",
    "15. wind_direction : Arah angin\n",
    "16. wind_speed : Kecepatan angin"
   ]
  },
  {
   "cell_type": "markdown",
   "id": "ad875647",
   "metadata": {},
   "source": [
    "**Melihat Statistika Deskriptifnya**"
   ]
  },
  {
   "cell_type": "code",
   "execution_count": 7,
   "id": "39cbceaf",
   "metadata": {},
   "outputs": [
    {
     "data": {
      "text/html": [
       "<div>\n",
       "<style scoped>\n",
       "    .dataframe tbody tr th:only-of-type {\n",
       "        vertical-align: middle;\n",
       "    }\n",
       "\n",
       "    .dataframe tbody tr th {\n",
       "        vertical-align: top;\n",
       "    }\n",
       "\n",
       "    .dataframe thead th {\n",
       "        text-align: right;\n",
       "    }\n",
       "</style>\n",
       "<table border=\"1\" class=\"dataframe\">\n",
       "  <thead>\n",
       "    <tr style=\"text-align: right;\">\n",
       "      <th></th>\n",
       "      <th>site_id</th>\n",
       "      <th>building_id</th>\n",
       "      <th>primary_use</th>\n",
       "      <th>square_feet</th>\n",
       "      <th>year_built</th>\n",
       "      <th>floor_count</th>\n",
       "      <th>meter</th>\n",
       "      <th>timestamp</th>\n",
       "      <th>meter_reading</th>\n",
       "      <th>air_temperature</th>\n",
       "      <th>cloud_coverage</th>\n",
       "      <th>dew_temperature</th>\n",
       "      <th>precip_depth_1_hr</th>\n",
       "      <th>sea_level_pressure</th>\n",
       "      <th>wind_direction</th>\n",
       "      <th>wind_speed</th>\n",
       "    </tr>\n",
       "  </thead>\n",
       "  <tbody>\n",
       "    <tr>\n",
       "      <th>count</th>\n",
       "      <td>20216100.0</td>\n",
       "      <td>20216100.0</td>\n",
       "      <td>20216100</td>\n",
       "      <td>2.021610e+07</td>\n",
       "      <td>8088455.0</td>\n",
       "      <td>3.506933e+06</td>\n",
       "      <td>20216100.0</td>\n",
       "      <td>20216100</td>\n",
       "      <td>2.021610e+07</td>\n",
       "      <td>2.011944e+07</td>\n",
       "      <td>1.139074e+07</td>\n",
       "      <td>2.011596e+07</td>\n",
       "      <td>1.646708e+07</td>\n",
       "      <td>1.898443e+07</td>\n",
       "      <td>1.876705e+07</td>\n",
       "      <td>2.007242e+07</td>\n",
       "    </tr>\n",
       "    <tr>\n",
       "      <th>unique</th>\n",
       "      <td>16.0</td>\n",
       "      <td>1449.0</td>\n",
       "      <td>16</td>\n",
       "      <td>NaN</td>\n",
       "      <td>116.0</td>\n",
       "      <td>NaN</td>\n",
       "      <td>4.0</td>\n",
       "      <td>8784</td>\n",
       "      <td>NaN</td>\n",
       "      <td>NaN</td>\n",
       "      <td>NaN</td>\n",
       "      <td>NaN</td>\n",
       "      <td>NaN</td>\n",
       "      <td>NaN</td>\n",
       "      <td>NaN</td>\n",
       "      <td>NaN</td>\n",
       "    </tr>\n",
       "    <tr>\n",
       "      <th>top</th>\n",
       "      <td>13.0</td>\n",
       "      <td>1249.0</td>\n",
       "      <td>Education</td>\n",
       "      <td>NaN</td>\n",
       "      <td>1976.0</td>\n",
       "      <td>NaN</td>\n",
       "      <td>0.0</td>\n",
       "      <td>2016-12-27 22:00:00</td>\n",
       "      <td>NaN</td>\n",
       "      <td>NaN</td>\n",
       "      <td>NaN</td>\n",
       "      <td>NaN</td>\n",
       "      <td>NaN</td>\n",
       "      <td>NaN</td>\n",
       "      <td>NaN</td>\n",
       "      <td>NaN</td>\n",
       "    </tr>\n",
       "    <tr>\n",
       "      <th>freq</th>\n",
       "      <td>2711763.0</td>\n",
       "      <td>35136.0</td>\n",
       "      <td>8165504</td>\n",
       "      <td>NaN</td>\n",
       "      <td>531091.0</td>\n",
       "      <td>NaN</td>\n",
       "      <td>12060910.0</td>\n",
       "      <td>2370</td>\n",
       "      <td>NaN</td>\n",
       "      <td>NaN</td>\n",
       "      <td>NaN</td>\n",
       "      <td>NaN</td>\n",
       "      <td>NaN</td>\n",
       "      <td>NaN</td>\n",
       "      <td>NaN</td>\n",
       "      <td>NaN</td>\n",
       "    </tr>\n",
       "    <tr>\n",
       "      <th>mean</th>\n",
       "      <td>NaN</td>\n",
       "      <td>NaN</td>\n",
       "      <td>NaN</td>\n",
       "      <td>1.077830e+05</td>\n",
       "      <td>NaN</td>\n",
       "      <td>4.184848e+00</td>\n",
       "      <td>NaN</td>\n",
       "      <td>NaN</td>\n",
       "      <td>2.117121e+03</td>\n",
       "      <td>1.598795e+01</td>\n",
       "      <td>1.900423e+00</td>\n",
       "      <td>7.747429e+00</td>\n",
       "      <td>7.964155e-01</td>\n",
       "      <td>1.016085e+03</td>\n",
       "      <td>1.730151e+02</td>\n",
       "      <td>3.377525e+00</td>\n",
       "    </tr>\n",
       "    <tr>\n",
       "      <th>std</th>\n",
       "      <td>NaN</td>\n",
       "      <td>NaN</td>\n",
       "      <td>NaN</td>\n",
       "      <td>1.171424e+05</td>\n",
       "      <td>NaN</td>\n",
       "      <td>4.008277e+00</td>\n",
       "      <td>NaN</td>\n",
       "      <td>NaN</td>\n",
       "      <td>1.532356e+05</td>\n",
       "      <td>1.094729e+01</td>\n",
       "      <td>2.402909e+00</td>\n",
       "      <td>1.017867e+01</td>\n",
       "      <td>7.468997e+00</td>\n",
       "      <td>7.060539e+00</td>\n",
       "      <td>1.140574e+02</td>\n",
       "      <td>2.265694e+00</td>\n",
       "    </tr>\n",
       "    <tr>\n",
       "      <th>min</th>\n",
       "      <td>NaN</td>\n",
       "      <td>NaN</td>\n",
       "      <td>NaN</td>\n",
       "      <td>2.830000e+02</td>\n",
       "      <td>NaN</td>\n",
       "      <td>1.000000e+00</td>\n",
       "      <td>NaN</td>\n",
       "      <td>NaN</td>\n",
       "      <td>0.000000e+00</td>\n",
       "      <td>-2.890000e+01</td>\n",
       "      <td>0.000000e+00</td>\n",
       "      <td>-3.500000e+01</td>\n",
       "      <td>-1.000000e+00</td>\n",
       "      <td>9.682000e+02</td>\n",
       "      <td>0.000000e+00</td>\n",
       "      <td>0.000000e+00</td>\n",
       "    </tr>\n",
       "    <tr>\n",
       "      <th>25%</th>\n",
       "      <td>NaN</td>\n",
       "      <td>NaN</td>\n",
       "      <td>NaN</td>\n",
       "      <td>3.252700e+04</td>\n",
       "      <td>NaN</td>\n",
       "      <td>1.000000e+00</td>\n",
       "      <td>NaN</td>\n",
       "      <td>NaN</td>\n",
       "      <td>1.830000e+01</td>\n",
       "      <td>8.600000e+00</td>\n",
       "      <td>0.000000e+00</td>\n",
       "      <td>0.000000e+00</td>\n",
       "      <td>0.000000e+00</td>\n",
       "      <td>1.011600e+03</td>\n",
       "      <td>7.000000e+01</td>\n",
       "      <td>2.100000e+00</td>\n",
       "    </tr>\n",
       "    <tr>\n",
       "      <th>50%</th>\n",
       "      <td>NaN</td>\n",
       "      <td>NaN</td>\n",
       "      <td>NaN</td>\n",
       "      <td>7.270900e+04</td>\n",
       "      <td>NaN</td>\n",
       "      <td>3.000000e+00</td>\n",
       "      <td>NaN</td>\n",
       "      <td>NaN</td>\n",
       "      <td>7.877500e+01</td>\n",
       "      <td>1.670000e+01</td>\n",
       "      <td>0.000000e+00</td>\n",
       "      <td>8.900000e+00</td>\n",
       "      <td>0.000000e+00</td>\n",
       "      <td>1.016000e+03</td>\n",
       "      <td>1.800000e+02</td>\n",
       "      <td>3.100000e+00</td>\n",
       "    </tr>\n",
       "    <tr>\n",
       "      <th>75%</th>\n",
       "      <td>NaN</td>\n",
       "      <td>NaN</td>\n",
       "      <td>NaN</td>\n",
       "      <td>1.391130e+05</td>\n",
       "      <td>NaN</td>\n",
       "      <td>6.000000e+00</td>\n",
       "      <td>NaN</td>\n",
       "      <td>NaN</td>\n",
       "      <td>2.679840e+02</td>\n",
       "      <td>2.410000e+01</td>\n",
       "      <td>4.000000e+00</td>\n",
       "      <td>1.610000e+01</td>\n",
       "      <td>0.000000e+00</td>\n",
       "      <td>1.020500e+03</td>\n",
       "      <td>2.800000e+02</td>\n",
       "      <td>4.600000e+00</td>\n",
       "    </tr>\n",
       "    <tr>\n",
       "      <th>max</th>\n",
       "      <td>NaN</td>\n",
       "      <td>NaN</td>\n",
       "      <td>NaN</td>\n",
       "      <td>8.750000e+05</td>\n",
       "      <td>NaN</td>\n",
       "      <td>2.600000e+01</td>\n",
       "      <td>NaN</td>\n",
       "      <td>NaN</td>\n",
       "      <td>2.190470e+07</td>\n",
       "      <td>4.720000e+01</td>\n",
       "      <td>9.000000e+00</td>\n",
       "      <td>2.610000e+01</td>\n",
       "      <td>3.430000e+02</td>\n",
       "      <td>1.045500e+03</td>\n",
       "      <td>3.600000e+02</td>\n",
       "      <td>1.900000e+01</td>\n",
       "    </tr>\n",
       "  </tbody>\n",
       "</table>\n",
       "</div>"
      ],
      "text/plain": [
       "           site_id  building_id primary_use   square_feet  year_built  \\\n",
       "count   20216100.0   20216100.0    20216100  2.021610e+07   8088455.0   \n",
       "unique        16.0       1449.0          16           NaN       116.0   \n",
       "top           13.0       1249.0   Education           NaN      1976.0   \n",
       "freq     2711763.0      35136.0     8165504           NaN    531091.0   \n",
       "mean           NaN          NaN         NaN  1.077830e+05         NaN   \n",
       "std            NaN          NaN         NaN  1.171424e+05         NaN   \n",
       "min            NaN          NaN         NaN  2.830000e+02         NaN   \n",
       "25%            NaN          NaN         NaN  3.252700e+04         NaN   \n",
       "50%            NaN          NaN         NaN  7.270900e+04         NaN   \n",
       "75%            NaN          NaN         NaN  1.391130e+05         NaN   \n",
       "max            NaN          NaN         NaN  8.750000e+05         NaN   \n",
       "\n",
       "         floor_count       meter            timestamp  meter_reading  \\\n",
       "count   3.506933e+06  20216100.0             20216100   2.021610e+07   \n",
       "unique           NaN         4.0                 8784            NaN   \n",
       "top              NaN         0.0  2016-12-27 22:00:00            NaN   \n",
       "freq             NaN  12060910.0                 2370            NaN   \n",
       "mean    4.184848e+00         NaN                  NaN   2.117121e+03   \n",
       "std     4.008277e+00         NaN                  NaN   1.532356e+05   \n",
       "min     1.000000e+00         NaN                  NaN   0.000000e+00   \n",
       "25%     1.000000e+00         NaN                  NaN   1.830000e+01   \n",
       "50%     3.000000e+00         NaN                  NaN   7.877500e+01   \n",
       "75%     6.000000e+00         NaN                  NaN   2.679840e+02   \n",
       "max     2.600000e+01         NaN                  NaN   2.190470e+07   \n",
       "\n",
       "        air_temperature  cloud_coverage  dew_temperature  precip_depth_1_hr  \\\n",
       "count      2.011944e+07    1.139074e+07     2.011596e+07       1.646708e+07   \n",
       "unique              NaN             NaN              NaN                NaN   \n",
       "top                 NaN             NaN              NaN                NaN   \n",
       "freq                NaN             NaN              NaN                NaN   \n",
       "mean       1.598795e+01    1.900423e+00     7.747429e+00       7.964155e-01   \n",
       "std        1.094729e+01    2.402909e+00     1.017867e+01       7.468997e+00   \n",
       "min       -2.890000e+01    0.000000e+00    -3.500000e+01      -1.000000e+00   \n",
       "25%        8.600000e+00    0.000000e+00     0.000000e+00       0.000000e+00   \n",
       "50%        1.670000e+01    0.000000e+00     8.900000e+00       0.000000e+00   \n",
       "75%        2.410000e+01    4.000000e+00     1.610000e+01       0.000000e+00   \n",
       "max        4.720000e+01    9.000000e+00     2.610000e+01       3.430000e+02   \n",
       "\n",
       "        sea_level_pressure  wind_direction    wind_speed  \n",
       "count         1.898443e+07    1.876705e+07  2.007242e+07  \n",
       "unique                 NaN             NaN           NaN  \n",
       "top                    NaN             NaN           NaN  \n",
       "freq                   NaN             NaN           NaN  \n",
       "mean          1.016085e+03    1.730151e+02  3.377525e+00  \n",
       "std           7.060539e+00    1.140574e+02  2.265694e+00  \n",
       "min           9.682000e+02    0.000000e+00  0.000000e+00  \n",
       "25%           1.011600e+03    7.000000e+01  2.100000e+00  \n",
       "50%           1.016000e+03    1.800000e+02  3.100000e+00  \n",
       "75%           1.020500e+03    2.800000e+02  4.600000e+00  \n",
       "max           1.045500e+03    3.600000e+02  1.900000e+01  "
      ]
     },
     "execution_count": 7,
     "metadata": {},
     "output_type": "execute_result"
    }
   ],
   "source": [
    "#Akan dicek statistika deskriptifnya\n",
    "train.describe(include=\"all\") #untuk melihat semua kolom"
   ]
  },
  {
   "cell_type": "markdown",
   "id": "0f075793",
   "metadata": {},
   "source": [
    "Didapatkan beberapa insight data dari statistika deskriptif ini, misalnya mean, jumlah, nilai maksimum dan minimum, quartil dan standar deviasi datanya.\n",
    "\n",
    "\n",
    "Perhatikan kolom precip_depth_1_hr, nilai terkecilnya adalah **-1,00**. Padahal presipitasi adalah ukuran tetes air hujan sehingga tidak seharusnya bernilai negatif. Maka terdapat indikasi adanya kesalahan data pada variabel ini. Selanjutnya akan dilihat berapa banyak data precip_depth_1_hr yang bernilai negatif."
   ]
  },
  {
   "cell_type": "code",
   "execution_count": 8,
   "id": "0b90d0a7",
   "metadata": {},
   "outputs": [
    {
     "name": "stdout",
     "output_type": "stream",
     "text": [
      "Jumlah data presipitasi yang bernilai negatif :  1093352\n",
      "Persentase data presipitasi yang kemungkinan salah:  6.639624020705071 %\n",
      "Jumlah data presipitasi yang bernilai -1.00 :  1093352\n"
     ]
    }
   ],
   "source": [
    "#Data precip yang bernilai negatif atau kurang dari 0\n",
    "jumlahsalah_precip = train[train['precip_depth_1_hr']<0]['precip_depth_1_hr'].count()\n",
    "print('Jumlah data presipitasi yang bernilai negatif : ',jumlahsalah_precip)\n",
    "#Presentase yang bernilai negatif\n",
    "persentasesalah_precip = ((train[train['precip_depth_1_hr']<0]['precip_depth_1_hr'].count())/(train['precip_depth_1_hr'].count()))*100\n",
    "print('Persentase data presipitasi yang kemungkinan salah: ',persentasesalah_precip,'%')\n",
    "#Cek apakah nilai data yang negatif sama semua\n",
    "salah_precip = train[train['precip_depth_1_hr']==-1]['precip_depth_1_hr'].count()\n",
    "print('Jumlah data presipitasi yang bernilai -1.00 : ',salah_precip)"
   ]
  },
  {
   "cell_type": "markdown",
   "id": "acca348f",
   "metadata": {},
   "source": [
    "Dapat dilihat persentase data tersebut yang kemungkinan salah ada sekitar 6.63%. Dan ternyata data yang salah tersebut semuanya bernilai -1.00. Oleh karena itu, data yang bernilai -1.00 dapat dengan aman kita ganti menjadi 0.00 (dengan asumsi tidak terjadi presipitasi di daerah tersebut)"
   ]
  },
  {
   "cell_type": "code",
   "execution_count": 9,
   "id": "d11f4d96",
   "metadata": {},
   "outputs": [
    {
     "data": {
      "text/html": [
       "<div>\n",
       "<style scoped>\n",
       "    .dataframe tbody tr th:only-of-type {\n",
       "        vertical-align: middle;\n",
       "    }\n",
       "\n",
       "    .dataframe tbody tr th {\n",
       "        vertical-align: top;\n",
       "    }\n",
       "\n",
       "    .dataframe thead th {\n",
       "        text-align: right;\n",
       "    }\n",
       "</style>\n",
       "<table border=\"1\" class=\"dataframe\">\n",
       "  <thead>\n",
       "    <tr style=\"text-align: right;\">\n",
       "      <th></th>\n",
       "      <th>square_feet</th>\n",
       "      <th>floor_count</th>\n",
       "      <th>meter_reading</th>\n",
       "      <th>air_temperature</th>\n",
       "      <th>cloud_coverage</th>\n",
       "      <th>dew_temperature</th>\n",
       "      <th>precip_depth_1_hr</th>\n",
       "      <th>sea_level_pressure</th>\n",
       "      <th>wind_direction</th>\n",
       "      <th>wind_speed</th>\n",
       "    </tr>\n",
       "  </thead>\n",
       "  <tbody>\n",
       "    <tr>\n",
       "      <th>count</th>\n",
       "      <td>2.021610e+07</td>\n",
       "      <td>3.506933e+06</td>\n",
       "      <td>2.021610e+07</td>\n",
       "      <td>2.011944e+07</td>\n",
       "      <td>1.139074e+07</td>\n",
       "      <td>2.011596e+07</td>\n",
       "      <td>1.646708e+07</td>\n",
       "      <td>1.898443e+07</td>\n",
       "      <td>1.876705e+07</td>\n",
       "      <td>2.007242e+07</td>\n",
       "    </tr>\n",
       "    <tr>\n",
       "      <th>mean</th>\n",
       "      <td>1.077830e+05</td>\n",
       "      <td>4.184848e+00</td>\n",
       "      <td>2.117121e+03</td>\n",
       "      <td>1.598795e+01</td>\n",
       "      <td>1.900423e+00</td>\n",
       "      <td>7.747429e+00</td>\n",
       "      <td>8.628118e-01</td>\n",
       "      <td>1.016085e+03</td>\n",
       "      <td>1.730151e+02</td>\n",
       "      <td>3.377525e+00</td>\n",
       "    </tr>\n",
       "    <tr>\n",
       "      <th>std</th>\n",
       "      <td>1.171424e+05</td>\n",
       "      <td>4.008277e+00</td>\n",
       "      <td>1.532356e+05</td>\n",
       "      <td>1.094729e+01</td>\n",
       "      <td>2.402909e+00</td>\n",
       "      <td>1.017867e+01</td>\n",
       "      <td>7.457168e+00</td>\n",
       "      <td>7.060539e+00</td>\n",
       "      <td>1.140574e+02</td>\n",
       "      <td>2.265694e+00</td>\n",
       "    </tr>\n",
       "    <tr>\n",
       "      <th>min</th>\n",
       "      <td>2.830000e+02</td>\n",
       "      <td>1.000000e+00</td>\n",
       "      <td>0.000000e+00</td>\n",
       "      <td>-2.890000e+01</td>\n",
       "      <td>0.000000e+00</td>\n",
       "      <td>-3.500000e+01</td>\n",
       "      <td>0.000000e+00</td>\n",
       "      <td>9.682000e+02</td>\n",
       "      <td>0.000000e+00</td>\n",
       "      <td>0.000000e+00</td>\n",
       "    </tr>\n",
       "    <tr>\n",
       "      <th>25%</th>\n",
       "      <td>3.252700e+04</td>\n",
       "      <td>1.000000e+00</td>\n",
       "      <td>1.830000e+01</td>\n",
       "      <td>8.600000e+00</td>\n",
       "      <td>0.000000e+00</td>\n",
       "      <td>0.000000e+00</td>\n",
       "      <td>0.000000e+00</td>\n",
       "      <td>1.011600e+03</td>\n",
       "      <td>7.000000e+01</td>\n",
       "      <td>2.100000e+00</td>\n",
       "    </tr>\n",
       "    <tr>\n",
       "      <th>50%</th>\n",
       "      <td>7.270900e+04</td>\n",
       "      <td>3.000000e+00</td>\n",
       "      <td>7.877500e+01</td>\n",
       "      <td>1.670000e+01</td>\n",
       "      <td>0.000000e+00</td>\n",
       "      <td>8.900000e+00</td>\n",
       "      <td>0.000000e+00</td>\n",
       "      <td>1.016000e+03</td>\n",
       "      <td>1.800000e+02</td>\n",
       "      <td>3.100000e+00</td>\n",
       "    </tr>\n",
       "    <tr>\n",
       "      <th>75%</th>\n",
       "      <td>1.391130e+05</td>\n",
       "      <td>6.000000e+00</td>\n",
       "      <td>2.679840e+02</td>\n",
       "      <td>2.410000e+01</td>\n",
       "      <td>4.000000e+00</td>\n",
       "      <td>1.610000e+01</td>\n",
       "      <td>0.000000e+00</td>\n",
       "      <td>1.020500e+03</td>\n",
       "      <td>2.800000e+02</td>\n",
       "      <td>4.600000e+00</td>\n",
       "    </tr>\n",
       "    <tr>\n",
       "      <th>max</th>\n",
       "      <td>8.750000e+05</td>\n",
       "      <td>2.600000e+01</td>\n",
       "      <td>2.190470e+07</td>\n",
       "      <td>4.720000e+01</td>\n",
       "      <td>9.000000e+00</td>\n",
       "      <td>2.610000e+01</td>\n",
       "      <td>3.430000e+02</td>\n",
       "      <td>1.045500e+03</td>\n",
       "      <td>3.600000e+02</td>\n",
       "      <td>1.900000e+01</td>\n",
       "    </tr>\n",
       "  </tbody>\n",
       "</table>\n",
       "</div>"
      ],
      "text/plain": [
       "        square_feet   floor_count  meter_reading  air_temperature  \\\n",
       "count  2.021610e+07  3.506933e+06   2.021610e+07     2.011944e+07   \n",
       "mean   1.077830e+05  4.184848e+00   2.117121e+03     1.598795e+01   \n",
       "std    1.171424e+05  4.008277e+00   1.532356e+05     1.094729e+01   \n",
       "min    2.830000e+02  1.000000e+00   0.000000e+00    -2.890000e+01   \n",
       "25%    3.252700e+04  1.000000e+00   1.830000e+01     8.600000e+00   \n",
       "50%    7.270900e+04  3.000000e+00   7.877500e+01     1.670000e+01   \n",
       "75%    1.391130e+05  6.000000e+00   2.679840e+02     2.410000e+01   \n",
       "max    8.750000e+05  2.600000e+01   2.190470e+07     4.720000e+01   \n",
       "\n",
       "       cloud_coverage  dew_temperature  precip_depth_1_hr  sea_level_pressure  \\\n",
       "count    1.139074e+07     2.011596e+07       1.646708e+07        1.898443e+07   \n",
       "mean     1.900423e+00     7.747429e+00       8.628118e-01        1.016085e+03   \n",
       "std      2.402909e+00     1.017867e+01       7.457168e+00        7.060539e+00   \n",
       "min      0.000000e+00    -3.500000e+01       0.000000e+00        9.682000e+02   \n",
       "25%      0.000000e+00     0.000000e+00       0.000000e+00        1.011600e+03   \n",
       "50%      0.000000e+00     8.900000e+00       0.000000e+00        1.016000e+03   \n",
       "75%      4.000000e+00     1.610000e+01       0.000000e+00        1.020500e+03   \n",
       "max      9.000000e+00     2.610000e+01       3.430000e+02        1.045500e+03   \n",
       "\n",
       "       wind_direction    wind_speed  \n",
       "count    1.876705e+07  2.007242e+07  \n",
       "mean     1.730151e+02  3.377525e+00  \n",
       "std      1.140574e+02  2.265694e+00  \n",
       "min      0.000000e+00  0.000000e+00  \n",
       "25%      7.000000e+01  2.100000e+00  \n",
       "50%      1.800000e+02  3.100000e+00  \n",
       "75%      2.800000e+02  4.600000e+00  \n",
       "max      3.600000e+02  1.900000e+01  "
      ]
     },
     "execution_count": 9,
     "metadata": {},
     "output_type": "execute_result"
    }
   ],
   "source": [
    "#mengganti data yang bernilai -1.00 menjadi 0\n",
    "train['precip_depth_1_hr'].replace(-1.0,0.0, inplace=True) #inplace=true supaya mengupdate tabelnya dengan nilai terbaru\n",
    "train.describe()"
   ]
  },
  {
   "cell_type": "markdown",
   "id": "9b0df220",
   "metadata": {},
   "source": [
    "**Mendeteksi Outlier**\n",
    "\n",
    "Untuk mendeteksi outlier, akan digunakan visualisasi dengan menggunakan boxplot pada package seaborn untuk setiap variabel numerik"
   ]
  },
  {
   "cell_type": "code",
   "execution_count": 27,
   "id": "ce403155",
   "metadata": {},
   "outputs": [
    {
     "name": "stderr",
     "output_type": "stream",
     "text": [
      "C:\\Users\\arela\\anaconda3\\lib\\site-packages\\seaborn\\_decorators.py:36: FutureWarning: Pass the following variable as a keyword arg: x. From version 0.12, the only valid positional argument will be `data`, and passing other arguments without an explicit keyword will result in an error or misinterpretation.\n",
      "  warnings.warn(\n"
     ]
    },
    {
     "data": {
      "image/png": "[encoded data removed]",
      "text/plain": [
       "<Figure size 432x288 with 1 Axes>"
      ]
     },
     "metadata": {
      "needs_background": "light"
     },
     "output_type": "display_data"
    },
    {
     "name": "stderr",
     "output_type": "stream",
     "text": [
      "C:\\Users\\arela\\anaconda3\\lib\\site-packages\\seaborn\\_decorators.py:36: FutureWarning: Pass the following variable as a keyword arg: x. From version 0.12, the only valid positional argument will be `data`, and passing other arguments without an explicit keyword will result in an error or misinterpretation.\n",
      "  warnings.warn(\n"
     ]
    },
    {
     "data": {
      "image/png": "[encoded data removed]",
      "text/plain": [
       "<Figure size 432x288 with 1 Axes>"
      ]
     },
     "metadata": {
      "needs_background": "light"
     },
     "output_type": "display_data"
    },
    {
     "name": "stderr",
     "output_type": "stream",
     "text": [
      "C:\\Users\\arela\\anaconda3\\lib\\site-packages\\seaborn\\_decorators.py:36: FutureWarning: Pass the following variable as a keyword arg: x. From version 0.12, the only valid positional argument will be `data`, and passing other arguments without an explicit keyword will result in an error or misinterpretation.\n",
      "  warnings.warn(\n"
     ]
    },
    {
     "data": {
      "image/png": "[encoded data removed]",
      "text/plain": [
       "<Figure size 432x288 with 1 Axes>"
      ]
     },
     "metadata": {
      "needs_background": "light"
     },
     "output_type": "display_data"
    },
    {
     "name": "stderr",
     "output_type": "stream",
     "text": [
      "C:\\Users\\arela\\anaconda3\\lib\\site-packages\\seaborn\\_decorators.py:36: FutureWarning: Pass the following variable as a keyword arg: x. From version 0.12, the only valid positional argument will be `data`, and passing other arguments without an explicit keyword will result in an error or misinterpretation.\n",
      "  warnings.warn(\n"
     ]
    },
    {
     "data": {
      "image/png": "[encoded data removed]",
      "text/plain": [
       "<Figure size 432x288 with 1 Axes>"
      ]
     },
     "metadata": {
      "needs_background": "light"
     },
     "output_type": "display_data"
    },
    {
     "name": "stderr",
     "output_type": "stream",
     "text": [
      "C:\\Users\\arela\\anaconda3\\lib\\site-packages\\seaborn\\_decorators.py:36: FutureWarning: Pass the following variable as a keyword arg: x. From version 0.12, the only valid positional argument will be `data`, and passing other arguments without an explicit keyword will result in an error or misinterpretation.\n",
      "  warnings.warn(\n"
     ]
    },
    {
     "data": {
      "image/png": "[encoded data removed]",
      "text/plain": [
       "<Figure size 432x288 with 1 Axes>"
      ]
     },
     "metadata": {
      "needs_background": "light"
     },
     "output_type": "display_data"
    },
    {
     "name": "stderr",
     "output_type": "stream",
     "text": [
      "C:\\Users\\arela\\anaconda3\\lib\\site-packages\\seaborn\\_decorators.py:36: FutureWarning: Pass the following variable as a keyword arg: x. From version 0.12, the only valid positional argument will be `data`, and passing other arguments without an explicit keyword will result in an error or misinterpretation.\n",
      "  warnings.warn(\n"
     ]
    },
    {
     "data": {
      "image/png": "[encoded data removed]",
      "text/plain": [
       "<Figure size 432x288 with 1 Axes>"
      ]
     },
     "metadata": {
      "needs_background": "light"
     },
     "output_type": "display_data"
    },
    {
     "name": "stderr",
     "output_type": "stream",
     "text": [
      "C:\\Users\\arela\\anaconda3\\lib\\site-packages\\seaborn\\_decorators.py:36: FutureWarning: Pass the following variable as a keyword arg: x. From version 0.12, the only valid positional argument will be `data`, and passing other arguments without an explicit keyword will result in an error or misinterpretation.\n",
      "  warnings.warn(\n"
     ]
    },
    {
     "data": {
      "image/png": "[encoded data removed]",
      "text/plain": [
       "<Figure size 432x288 with 1 Axes>"
      ]
     },
     "metadata": {
      "needs_background": "light"
     },
     "output_type": "display_data"
    },
    {
     "name": "stderr",
     "output_type": "stream",
     "text": [
      "C:\\Users\\arela\\anaconda3\\lib\\site-packages\\seaborn\\_decorators.py:36: FutureWarning: Pass the following variable as a keyword arg: x. From version 0.12, the only valid positional argument will be `data`, and passing other arguments without an explicit keyword will result in an error or misinterpretation.\n",
      "  warnings.warn(\n"
     ]
    },
    {
     "data": {
      "image/png": "[encoded data removed]",
      "text/plain": [
       "<Figure size 432x288 with 1 Axes>"
      ]
     },
     "metadata": {
      "needs_background": "light"
     },
     "output_type": "display_data"
    },
    {
     "name": "stderr",
     "output_type": "stream",
     "text": [
      "C:\\Users\\arela\\anaconda3\\lib\\site-packages\\seaborn\\_decorators.py:36: FutureWarning: Pass the following variable as a keyword arg: x. From version 0.12, the only valid positional argument will be `data`, and passing other arguments without an explicit keyword will result in an error or misinterpretation.\n",
      "  warnings.warn(\n"
     ]
    },
    {
     "data": {
      "image/png": "[encoded data removed]",
      "text/plain": [
       "<Figure size 432x288 with 1 Axes>"
      ]
     },
     "metadata": {
      "needs_background": "light"
     },
     "output_type": "display_data"
    },
    {
     "name": "stderr",
     "output_type": "stream",
     "text": [
      "C:\\Users\\arela\\anaconda3\\lib\\site-packages\\seaborn\\_decorators.py:36: FutureWarning: Pass the following variable as a keyword arg: x. From version 0.12, the only valid positional argument will be `data`, and passing other arguments without an explicit keyword will result in an error or misinterpretation.\n",
      "  warnings.warn(\n"
     ]
    },
    {
     "data": {
      "image/png": "[encoded data removed]",
      "text/plain": [
       "<Figure size 432x288 with 1 Axes>"
      ]
     },
     "metadata": {
      "needs_background": "light"
     },
     "output_type": "display_data"
    }
   ],
   "source": [
    "columns = train.columns.values\n",
    "for i in columns:\n",
    "    if train[i].dtype=='float64'or train[i].dtype=='int64':\n",
    "       sns.boxplot(train[i])\n",
    "       plt.show()"
   ]
  },
  {
   "cell_type": "markdown",
   "id": "e545361d",
   "metadata": {},
   "source": [
    "Dapat dilihat dari boxplot tersebut, banyak kolom atau variabel yang memiliki outlier, terutama square_feet (luas gedung), floor_count (banyaknya lantai di gedung), meter_reading (konsumsi energi), air_temperature (suhu udara), dew_temperature (suhu embun), precip_depth_1hr (presipitasi), sea_level_pressure (tekanan permukaan laut), dan wind_speed (kecepatan angin).\n",
    " \n",
    "Meskipun persebaran outliernya cukup skewed namun outlier data tersebut tidak ada yang terlalu jauh dari yang lainnya. Data tersebut juga masih tergolong valid (tidak ada anomali). Oleh karena itu, outlier data tidak perlu dirubah/dibiarkan saja."
   ]
  },
  {
   "cell_type": "markdown",
   "id": "a427e383",
   "metadata": {},
   "source": [
    "**Mencari Missing Values**"
   ]
  },
  {
   "cell_type": "code",
   "execution_count": 10,
   "id": "1e9ea740",
   "metadata": {},
   "outputs": [
    {
     "data": {
      "text/plain": [
       "site_id                      0\n",
       "building_id                  0\n",
       "primary_use                  0\n",
       "square_feet                  0\n",
       "year_built            12127645\n",
       "floor_count           16709167\n",
       "meter                        0\n",
       "timestamp                    0\n",
       "meter_reading                0\n",
       "air_temperature          96658\n",
       "cloud_coverage         8825365\n",
       "dew_temperature         100140\n",
       "precip_depth_1_hr      3749023\n",
       "sea_level_pressure     1231669\n",
       "wind_direction         1449048\n",
       "wind_speed              143676\n",
       "dtype: int64"
      ]
     },
     "execution_count": 10,
     "metadata": {},
     "output_type": "execute_result"
    }
   ],
   "source": [
    "#Menghitung jumlah missing values pada masing-masing kolom / variabel\n",
    "train.isnull().sum()"
   ]
  },
  {
   "cell_type": "code",
   "execution_count": 11,
   "id": "006ec26c",
   "metadata": {},
   "outputs": [
    {
     "data": {
      "text/html": [
       "<div>\n",
       "<style scoped>\n",
       "    .dataframe tbody tr th:only-of-type {\n",
       "        vertical-align: middle;\n",
       "    }\n",
       "\n",
       "    .dataframe tbody tr th {\n",
       "        vertical-align: top;\n",
       "    }\n",
       "\n",
       "    .dataframe thead th {\n",
       "        text-align: right;\n",
       "    }\n",
       "</style>\n",
       "<table border=\"1\" class=\"dataframe\">\n",
       "  <thead>\n",
       "    <tr style=\"text-align: right;\">\n",
       "      <th></th>\n",
       "      <th>persentase missing</th>\n",
       "    </tr>\n",
       "  </thead>\n",
       "  <tbody>\n",
       "    <tr>\n",
       "      <th>site_id</th>\n",
       "      <td>0.000000</td>\n",
       "    </tr>\n",
       "    <tr>\n",
       "      <th>building_id</th>\n",
       "      <td>0.000000</td>\n",
       "    </tr>\n",
       "    <tr>\n",
       "      <th>primary_use</th>\n",
       "      <td>0.000000</td>\n",
       "    </tr>\n",
       "    <tr>\n",
       "      <th>square_feet</th>\n",
       "      <td>0.000000</td>\n",
       "    </tr>\n",
       "    <tr>\n",
       "      <th>year_built</th>\n",
       "      <td>59.990033</td>\n",
       "    </tr>\n",
       "    <tr>\n",
       "      <th>floor_count</th>\n",
       "      <td>82.652772</td>\n",
       "    </tr>\n",
       "    <tr>\n",
       "      <th>meter</th>\n",
       "      <td>0.000000</td>\n",
       "    </tr>\n",
       "    <tr>\n",
       "      <th>timestamp</th>\n",
       "      <td>0.000000</td>\n",
       "    </tr>\n",
       "    <tr>\n",
       "      <th>meter_reading</th>\n",
       "      <td>0.000000</td>\n",
       "    </tr>\n",
       "    <tr>\n",
       "      <th>air_temperature</th>\n",
       "      <td>0.478124</td>\n",
       "    </tr>\n",
       "    <tr>\n",
       "      <th>cloud_coverage</th>\n",
       "      <td>43.655131</td>\n",
       "    </tr>\n",
       "    <tr>\n",
       "      <th>dew_temperature</th>\n",
       "      <td>0.495348</td>\n",
       "    </tr>\n",
       "    <tr>\n",
       "      <th>precip_depth_1_hr</th>\n",
       "      <td>18.544739</td>\n",
       "    </tr>\n",
       "    <tr>\n",
       "      <th>sea_level_pressure</th>\n",
       "      <td>6.092515</td>\n",
       "    </tr>\n",
       "    <tr>\n",
       "      <th>wind_direction</th>\n",
       "      <td>7.167792</td>\n",
       "    </tr>\n",
       "    <tr>\n",
       "      <th>wind_speed</th>\n",
       "      <td>0.710701</td>\n",
       "    </tr>\n",
       "  </tbody>\n",
       "</table>\n",
       "</div>"
      ],
      "text/plain": [
       "                    persentase missing\n",
       "site_id                       0.000000\n",
       "building_id                   0.000000\n",
       "primary_use                   0.000000\n",
       "square_feet                   0.000000\n",
       "year_built                   59.990033\n",
       "floor_count                  82.652772\n",
       "meter                         0.000000\n",
       "timestamp                     0.000000\n",
       "meter_reading                 0.000000\n",
       "air_temperature               0.478124\n",
       "cloud_coverage               43.655131\n",
       "dew_temperature               0.495348\n",
       "precip_depth_1_hr            18.544739\n",
       "sea_level_pressure            6.092515\n",
       "wind_direction                7.167792\n",
       "wind_speed                    0.710701"
      ]
     },
     "execution_count": 11,
     "metadata": {},
     "output_type": "execute_result"
    }
   ],
   "source": [
    "# Persentase missing values\n",
    "(train.isnull().sum()/len(train)*100).to_frame('persentase missing')"
   ]
  },
  {
   "cell_type": "markdown",
   "id": "bb75bd33",
   "metadata": {},
   "source": [
    "Dapat dilihat, banyak kolom atau variabel yang memiliki missing values, seperti year_built, floor_count, air_temperature, cloud_coverage, dew_temperature, precip_depth_1_hr, sea_level_pressure, wind_direction, dan wind_speed."
   ]
  },
  {
   "cell_type": "code",
   "execution_count": 15,
   "id": "41706a87",
   "metadata": {},
   "outputs": [
    {
     "data": {
      "text/plain": [
       "<AxesSubplot:>"
      ]
     },
     "execution_count": 15,
     "metadata": {},
     "output_type": "execute_result"
    },
    {
     "data": {
      "image/png": "[encoded data removed]",
      "text/plain": [
       "<Figure size 1800x720 with 2 Axes>"
      ]
     },
     "metadata": {
      "needs_background": "light"
     },
     "output_type": "display_data"
    }
   ],
   "source": [
    "# Visualisasi missing values\n",
    "# Matrix Plot\n",
    "msno.matrix(train)"
   ]
  },
  {
   "cell_type": "code",
   "execution_count": 16,
   "id": "8c278263",
   "metadata": {},
   "outputs": [
    {
     "data": {
      "text/plain": [
       "<AxesSubplot:>"
      ]
     },
     "execution_count": 16,
     "metadata": {},
     "output_type": "execute_result"
    },
    {
     "data": {
      "image/png": "[encoded data removed]",
      "text/plain": [
       "<Figure size 1440x864 with 2 Axes>"
      ]
     },
     "metadata": {
      "needs_background": "light"
     },
     "output_type": "display_data"
    }
   ],
   "source": [
    "# Heatmap\n",
    "msno.heatmap(train)"
   ]
  },
  {
   "cell_type": "markdown",
   "id": "ef37f067",
   "metadata": {},
   "source": [
    "Penjelasan Visualisasi :\n",
    "\n",
    "- Plot matriks memberikan isian warna untuk setiap kolom. Jika datanya ada, plot diarsir akan dalam warna abu-abu, namun jika tidak ada, plot ditampilkan dalam warna putih.\n",
    "\n",
    "- Heatmap digunakan untuk mengidentifikasi korelasi missing value antara masing-masing kolom yang berbeda. Dengan kata lain, ini dapat digunakan untuk mengidentifikasi apakah ada hubungan dengan adanya missing value di antara masing-masing kolom. Nilai yang mendekati positif 1 menunjukkan bahwa keberadaan missing value di satu kolom berkorelasi dengan keberadaan missing value di kolom lain. Dan berlaku kebalikannya jika mendekati negatif 1. Nilai yang mendekati 0, menunjukkan ada sedikit atau tidak ada hubungan antara keberadaan nilai nol dalam satu kolom dibandingkan dengan kolom lainnya.\n",
    "\n",
    "Berdasarkan data visualisasi tersebut, missing value tidak terlalu bergantung antara variabel/kolom satu dengan yang lain (pengecualian pada variabel air_temperature dan dew_temperature). Sehingga ini termasuk dalam kasus MCAR (Missing Completly At Random). \n",
    "\n",
    "Perlu diperhatikan bahwa terdapat missing values pada semua data mulai dari pertengahan kebawah di variabel year_built dan floor_count (persentase missing value lebih besar dari 50%). Karena data tidak terlalu esensial, sebaiknya kedua data ini dihapuskan.\n",
    "\n",
    "Sisanya, dilihat dari presentase missing valuenya, rata-rata berada di bawah 18%. (Pengecualian pada variabel cloud_coverage). Kemudian, tidak ada data kategorik yang mempunyai missing value. Sehingga, karena datanya juga tersebar dengan luas / cukup skewed (lihat boxplot saat mendeteksi outlier), akan lebih baik menggunakan cara imputasi dengan median untuk mengatasi missing value tersebut, karena median tidak terinfluensikan oleh nilai yang besar. \n",
    "\n",
    "Untuk baris yang mempunyai lebih dari 2 missing value, akan lebih aman untuk di delete saja."
   ]
  },
  {
   "cell_type": "code",
   "execution_count": 12,
   "id": "4169000f",
   "metadata": {},
   "outputs": [
    {
     "data": {
      "text/html": [
       "<div>\n",
       "<style scoped>\n",
       "    .dataframe tbody tr th:only-of-type {\n",
       "        vertical-align: middle;\n",
       "    }\n",
       "\n",
       "    .dataframe tbody tr th {\n",
       "        vertical-align: top;\n",
       "    }\n",
       "\n",
       "    .dataframe thead th {\n",
       "        text-align: right;\n",
       "    }\n",
       "</style>\n",
       "<table border=\"1\" class=\"dataframe\">\n",
       "  <thead>\n",
       "    <tr style=\"text-align: right;\">\n",
       "      <th></th>\n",
       "      <th>site_id</th>\n",
       "      <th>building_id</th>\n",
       "      <th>primary_use</th>\n",
       "      <th>square_feet</th>\n",
       "      <th>meter</th>\n",
       "      <th>timestamp</th>\n",
       "      <th>meter_reading</th>\n",
       "      <th>air_temperature</th>\n",
       "      <th>cloud_coverage</th>\n",
       "      <th>dew_temperature</th>\n",
       "      <th>precip_depth_1_hr</th>\n",
       "      <th>sea_level_pressure</th>\n",
       "      <th>wind_direction</th>\n",
       "      <th>wind_speed</th>\n",
       "    </tr>\n",
       "  </thead>\n",
       "  <tbody>\n",
       "    <tr>\n",
       "      <th>0</th>\n",
       "      <td>0</td>\n",
       "      <td>0</td>\n",
       "      <td>Education</td>\n",
       "      <td>7432</td>\n",
       "      <td>0</td>\n",
       "      <td>2016-01-01 00:00:00</td>\n",
       "      <td>0.0</td>\n",
       "      <td>25.0</td>\n",
       "      <td>6.0</td>\n",
       "      <td>20.0</td>\n",
       "      <td>NaN</td>\n",
       "      <td>1019.7</td>\n",
       "      <td>0.0</td>\n",
       "      <td>0.0</td>\n",
       "    </tr>\n",
       "    <tr>\n",
       "      <th>1</th>\n",
       "      <td>0</td>\n",
       "      <td>0</td>\n",
       "      <td>Education</td>\n",
       "      <td>7432</td>\n",
       "      <td>0</td>\n",
       "      <td>2016-01-01 01:00:00</td>\n",
       "      <td>0.0</td>\n",
       "      <td>24.4</td>\n",
       "      <td>NaN</td>\n",
       "      <td>21.1</td>\n",
       "      <td>0.0</td>\n",
       "      <td>1020.2</td>\n",
       "      <td>70.0</td>\n",
       "      <td>1.5</td>\n",
       "    </tr>\n",
       "    <tr>\n",
       "      <th>2</th>\n",
       "      <td>0</td>\n",
       "      <td>0</td>\n",
       "      <td>Education</td>\n",
       "      <td>7432</td>\n",
       "      <td>0</td>\n",
       "      <td>2016-01-01 02:00:00</td>\n",
       "      <td>0.0</td>\n",
       "      <td>22.8</td>\n",
       "      <td>2.0</td>\n",
       "      <td>21.1</td>\n",
       "      <td>0.0</td>\n",
       "      <td>1020.2</td>\n",
       "      <td>0.0</td>\n",
       "      <td>0.0</td>\n",
       "    </tr>\n",
       "    <tr>\n",
       "      <th>3</th>\n",
       "      <td>0</td>\n",
       "      <td>0</td>\n",
       "      <td>Education</td>\n",
       "      <td>7432</td>\n",
       "      <td>0</td>\n",
       "      <td>2016-01-01 03:00:00</td>\n",
       "      <td>0.0</td>\n",
       "      <td>21.1</td>\n",
       "      <td>2.0</td>\n",
       "      <td>20.6</td>\n",
       "      <td>0.0</td>\n",
       "      <td>1020.1</td>\n",
       "      <td>0.0</td>\n",
       "      <td>0.0</td>\n",
       "    </tr>\n",
       "    <tr>\n",
       "      <th>4</th>\n",
       "      <td>0</td>\n",
       "      <td>0</td>\n",
       "      <td>Education</td>\n",
       "      <td>7432</td>\n",
       "      <td>0</td>\n",
       "      <td>2016-01-01 04:00:00</td>\n",
       "      <td>0.0</td>\n",
       "      <td>20.0</td>\n",
       "      <td>2.0</td>\n",
       "      <td>20.0</td>\n",
       "      <td>0.0</td>\n",
       "      <td>1020.0</td>\n",
       "      <td>250.0</td>\n",
       "      <td>2.6</td>\n",
       "    </tr>\n",
       "  </tbody>\n",
       "</table>\n",
       "</div>"
      ],
      "text/plain": [
       "  site_id building_id primary_use  square_feet meter            timestamp  \\\n",
       "0       0           0   Education         7432     0  2016-01-01 00:00:00   \n",
       "1       0           0   Education         7432     0  2016-01-01 01:00:00   \n",
       "2       0           0   Education         7432     0  2016-01-01 02:00:00   \n",
       "3       0           0   Education         7432     0  2016-01-01 03:00:00   \n",
       "4       0           0   Education         7432     0  2016-01-01 04:00:00   \n",
       "\n",
       "   meter_reading  air_temperature  cloud_coverage  dew_temperature  \\\n",
       "0            0.0             25.0             6.0             20.0   \n",
       "1            0.0             24.4             NaN             21.1   \n",
       "2            0.0             22.8             2.0             21.1   \n",
       "3            0.0             21.1             2.0             20.6   \n",
       "4            0.0             20.0             2.0             20.0   \n",
       "\n",
       "   precip_depth_1_hr  sea_level_pressure  wind_direction  wind_speed  \n",
       "0                NaN              1019.7             0.0         0.0  \n",
       "1                0.0              1020.2            70.0         1.5  \n",
       "2                0.0              1020.2             0.0         0.0  \n",
       "3                0.0              1020.1             0.0         0.0  \n",
       "4                0.0              1020.0           250.0         2.6  "
      ]
     },
     "execution_count": 12,
     "metadata": {},
     "output_type": "execute_result"
    }
   ],
   "source": [
    "# menghapus/mendrop kolom year_built dan floor_count karena mempunyai missing value yang lebih besar dari 50%\n",
    "train.drop(labels=['year_built','floor_count'], axis=1, inplace=True)\n",
    "train.head()"
   ]
  },
  {
   "cell_type": "code",
   "execution_count": 13,
   "id": "5ac25e82",
   "metadata": {},
   "outputs": [
    {
     "data": {
      "text/plain": [
       "site_id                     0\n",
       "building_id                 0\n",
       "primary_use                 0\n",
       "square_feet                 0\n",
       "meter                       0\n",
       "timestamp                   0\n",
       "meter_reading               0\n",
       "air_temperature         96658\n",
       "cloud_coverage        8825365\n",
       "dew_temperature        100140\n",
       "precip_depth_1_hr     3749023\n",
       "sea_level_pressure    1231669\n",
       "wind_direction        1449048\n",
       "wind_speed             143676\n",
       "dtype: int64"
      ]
     },
     "execution_count": 13,
     "metadata": {},
     "output_type": "execute_result"
    }
   ],
   "source": [
    "#mengahpus/mendrop baris yang memiliki minimal 2 missing values di kolom\n",
    "train.dropna(thresh=2, inplace=True)\n",
    "train.isnull().sum()"
   ]
  },
  {
   "cell_type": "code",
   "execution_count": 14,
   "id": "bb587396",
   "metadata": {},
   "outputs": [
    {
     "data": {
      "text/html": [
       "<div>\n",
       "<style scoped>\n",
       "    .dataframe tbody tr th:only-of-type {\n",
       "        vertical-align: middle;\n",
       "    }\n",
       "\n",
       "    .dataframe tbody tr th {\n",
       "        vertical-align: top;\n",
       "    }\n",
       "\n",
       "    .dataframe thead th {\n",
       "        text-align: right;\n",
       "    }\n",
       "</style>\n",
       "<table border=\"1\" class=\"dataframe\">\n",
       "  <thead>\n",
       "    <tr style=\"text-align: right;\">\n",
       "      <th></th>\n",
       "      <th>persentase missing</th>\n",
       "    </tr>\n",
       "  </thead>\n",
       "  <tbody>\n",
       "    <tr>\n",
       "      <th>site_id</th>\n",
       "      <td>0.000000</td>\n",
       "    </tr>\n",
       "    <tr>\n",
       "      <th>building_id</th>\n",
       "      <td>0.000000</td>\n",
       "    </tr>\n",
       "    <tr>\n",
       "      <th>primary_use</th>\n",
       "      <td>0.000000</td>\n",
       "    </tr>\n",
       "    <tr>\n",
       "      <th>square_feet</th>\n",
       "      <td>0.000000</td>\n",
       "    </tr>\n",
       "    <tr>\n",
       "      <th>meter</th>\n",
       "      <td>0.000000</td>\n",
       "    </tr>\n",
       "    <tr>\n",
       "      <th>timestamp</th>\n",
       "      <td>0.000000</td>\n",
       "    </tr>\n",
       "    <tr>\n",
       "      <th>meter_reading</th>\n",
       "      <td>0.000000</td>\n",
       "    </tr>\n",
       "    <tr>\n",
       "      <th>air_temperature</th>\n",
       "      <td>0.478124</td>\n",
       "    </tr>\n",
       "    <tr>\n",
       "      <th>cloud_coverage</th>\n",
       "      <td>43.655131</td>\n",
       "    </tr>\n",
       "    <tr>\n",
       "      <th>dew_temperature</th>\n",
       "      <td>0.495348</td>\n",
       "    </tr>\n",
       "    <tr>\n",
       "      <th>precip_depth_1_hr</th>\n",
       "      <td>18.544739</td>\n",
       "    </tr>\n",
       "    <tr>\n",
       "      <th>sea_level_pressure</th>\n",
       "      <td>6.092515</td>\n",
       "    </tr>\n",
       "    <tr>\n",
       "      <th>wind_direction</th>\n",
       "      <td>7.167792</td>\n",
       "    </tr>\n",
       "    <tr>\n",
       "      <th>wind_speed</th>\n",
       "      <td>0.710701</td>\n",
       "    </tr>\n",
       "  </tbody>\n",
       "</table>\n",
       "</div>"
      ],
      "text/plain": [
       "                    persentase missing\n",
       "site_id                       0.000000\n",
       "building_id                   0.000000\n",
       "primary_use                   0.000000\n",
       "square_feet                   0.000000\n",
       "meter                         0.000000\n",
       "timestamp                     0.000000\n",
       "meter_reading                 0.000000\n",
       "air_temperature               0.478124\n",
       "cloud_coverage               43.655131\n",
       "dew_temperature               0.495348\n",
       "precip_depth_1_hr            18.544739\n",
       "sea_level_pressure            6.092515\n",
       "wind_direction                7.167792\n",
       "wind_speed                    0.710701"
      ]
     },
     "execution_count": 14,
     "metadata": {},
     "output_type": "execute_result"
    }
   ],
   "source": [
    "#persentase missing value setelah menghapus baris yang memiliki minimal 2 missing values di kolom\n",
    "(train.isnull().sum()/len(train)*100).to_frame('persentase missing')"
   ]
  },
  {
   "cell_type": "markdown",
   "id": "790f3249",
   "metadata": {},
   "source": [
    "Ternyata setelah dilakukan penghapusan baris yang memiliki minimal 2 missing values di kolom, missing valuenya tetap sama, artinya tidak ada satupun baris yang memiliki 2 atau lebih missing value pada kolomnya (setelah penghapusan variabel year_built dan floor_count), selanjutnya akan diimputasi sisa missing value dengan median"
   ]
  },
  {
   "cell_type": "code",
   "execution_count": 16,
   "id": "3be6f155",
   "metadata": {},
   "outputs": [
    {
     "data": {
      "text/plain": [
       "site_id               0\n",
       "building_id           0\n",
       "primary_use           0\n",
       "square_feet           0\n",
       "meter                 0\n",
       "timestamp             0\n",
       "meter_reading         0\n",
       "air_temperature       0\n",
       "cloud_coverage        0\n",
       "dew_temperature       0\n",
       "precip_depth_1_hr     0\n",
       "sea_level_pressure    0\n",
       "wind_direction        0\n",
       "wind_speed            0\n",
       "dtype: int64"
      ]
     },
     "execution_count": 16,
     "metadata": {},
     "output_type": "execute_result"
    }
   ],
   "source": [
    "# mengimputasi missing value dengan median\n",
    "train.fillna(train.median(),inplace=True)\n",
    "train.isnull().sum()"
   ]
  },
  {
   "cell_type": "markdown",
   "id": "99e4eb44",
   "metadata": {},
   "source": [
    "Sudah tidak ada missing value lagi, sehingga data sudah bisa dipakai untuk analisis data selanjutnya"
   ]
  },
  {
   "cell_type": "code",
   "execution_count": 17,
   "id": "3d85c87e",
   "metadata": {},
   "outputs": [],
   "source": [
    "train.to_csv(\"C:/Users/arela/Downloads/train_PreProcessed.csv\", encoding='utf8', index=False)"
   ]
  }
 ],
 "metadata": {
  "kernelspec": {
   "display_name": "Python 3 (ipykernel)",
   "language": "python",
   "name": "python3"
  },
  "language_info": {
   "codemirror_mode": {
    "name": "ipython",
    "version": 3
   },
   "file_extension": ".py",
   "mimetype": "text/x-python",
   "name": "python",
   "nbconvert_exporter": "python",
   "pygments_lexer": "ipython3",
   "version": "3.9.12"
  }
 },
 "nbformat": 4,
 "nbformat_minor": 5
}
